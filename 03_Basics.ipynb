{
  "cells": [
    {
      "cell_type": "markdown",
      "metadata": {
        "id": "view-in-github",
        "colab_type": "text"
      },
      "source": [
        "<a href=\"https://colab.research.google.com/github/YadhukrishnanK2001/Python/blob/main/03_Basics.ipynb\" target=\"_parent\"><img src=\"https://colab.research.google.com/assets/colab-badge.svg\" alt=\"Open In Colab\"/></a>"
      ]
    },
    {
      "cell_type": "code",
      "execution_count": null,
      "metadata": {
        "colab": {
          "base_uri": "https://localhost:8080/"
        },
        "id": "oRG3B1Lv4EBx",
        "outputId": "8c9d3a81-5237-4647-e437-6cc6cc6a643c"
      },
      "outputs": [
        {
          "name": "stdout",
          "output_type": "stream",
          "text": [
            "10\n"
          ]
        }
      ],
      "source": [
        "x=10\n",
        "print(x)"
      ]
    },
    {
      "cell_type": "code",
      "execution_count": null,
      "metadata": {
        "colab": {
          "base_uri": "https://localhost:8080/"
        },
        "id": "TdNPozfS4g4W",
        "outputId": "510a8f1e-20e8-4b27-f7be-03273a11dae4"
      },
      "outputs": [
        {
          "name": "stdout",
          "output_type": "stream",
          "text": [
            "30\n"
          ]
        }
      ],
      "source": [
        "x=10\n",
        "y=20\n",
        "print(x+y)"
      ]
    },
    {
      "cell_type": "code",
      "execution_count": null,
      "metadata": {
        "colab": {
          "base_uri": "https://localhost:8080/"
        },
        "id": "q2SZl2MY4tmb",
        "outputId": "e9bd5bcf-aba1-45dd-db38-50c01d56152b"
      },
      "outputs": [
        {
          "name": "stdout",
          "output_type": "stream",
          "text": [
            "-10\n"
          ]
        }
      ],
      "source": [
        "print(x-y)"
      ]
    },
    {
      "cell_type": "code",
      "execution_count": null,
      "metadata": {
        "colab": {
          "base_uri": "https://localhost:8080/"
        },
        "id": "HSuEEK-I425S",
        "outputId": "c08e90d8-a95a-407c-efce-d2e4e9bddcbb"
      },
      "outputs": [
        {
          "name": "stdout",
          "output_type": "stream",
          "text": [
            "yadhu Krishnan\n"
          ]
        }
      ],
      "source": [
        "x=\"yadhu Krishnan\"\n",
        "print(x)"
      ]
    },
    {
      "cell_type": "code",
      "execution_count": null,
      "metadata": {
        "colab": {
          "base_uri": "https://localhost:8080/"
        },
        "id": "-LzSC1HP5A2J",
        "outputId": "c07aae7f-1a14-411b-b382-49fae1c65ae9"
      },
      "outputs": [
        {
          "name": "stdout",
          "output_type": "stream",
          "text": [
            "<class 'int'>\n"
          ]
        }
      ],
      "source": [
        "x=10.\n",
        "print(type(x))"
      ]
    },
    {
      "cell_type": "code",
      "execution_count": null,
      "metadata": {
        "colab": {
          "base_uri": "https://localhost:8080/"
        },
        "id": "xRml7fFi5PfF",
        "outputId": "2100f042-5c9a-4513-9279-1360ec2a6801"
      },
      "outputs": [
        {
          "name": "stdout",
          "output_type": "stream",
          "text": [
            "<class 'float'>\n"
          ]
        }
      ],
      "source": [
        "x=10.5\n",
        "print(type (x))"
      ]
    },
    {
      "cell_type": "code",
      "execution_count": null,
      "metadata": {
        "colab": {
          "base_uri": "https://localhost:8080/"
        },
        "id": "EaBNVtfK5Xjp",
        "outputId": "fba0132f-42da-4fcf-8014-87891376e938"
      },
      "outputs": [
        {
          "name": "stdout",
          "output_type": "stream",
          "text": [
            "<class 'str'>\n"
          ]
        }
      ],
      "source": [
        "x=\"yadhu\"\n",
        "print(type (x))"
      ]
    },
    {
      "cell_type": "code",
      "execution_count": null,
      "metadata": {
        "colab": {
          "base_uri": "https://localhost:8080/"
        },
        "id": "QxOXjKVV5_Hm",
        "outputId": "ba784cb1-4be9-480f-e261-193a284be979"
      },
      "outputs": [
        {
          "name": "stdout",
          "output_type": "stream",
          "text": [
            "yadhuKrishnan\n"
          ]
        }
      ],
      "source": [
        "x=\"yadhu\"\n",
        "y=\"Krishnan\"\n",
        "print(x+y)"
      ]
    },
    {
      "cell_type": "code",
      "execution_count": null,
      "metadata": {
        "colab": {
          "base_uri": "https://localhost:8080/"
        },
        "id": "AT2VfFgP6sIE",
        "outputId": "564faf3f-7793-4b76-cec5-a1cebd3b5579"
      },
      "outputs": [
        {
          "name": "stdout",
          "output_type": "stream",
          "text": [
            "yadhu Krishnan\n"
          ]
        }
      ],
      "source": [
        "x=\"yadhu\"\n",
        "y=\"Krishnan\"\n",
        "print(x+\" \"+y)"
      ]
    },
    {
      "cell_type": "code",
      "execution_count": null,
      "metadata": {
        "colab": {
          "base_uri": "https://localhost:8080/"
        },
        "id": "GJTUosjB8H4-",
        "outputId": "10dbec8c-282f-4e82-9ec8-069cf31e00e2"
      },
      "outputs": [
        {
          "name": "stdout",
          "output_type": "stream",
          "text": [
            "indiaismycountry\n"
          ]
        }
      ],
      "source": [
        "x=\"india\"\n",
        "y=\"is\"\n",
        "z=\"my\"\n",
        "a=\"country\"\n",
        "print(x+y+z+a)"
      ]
    },
    {
      "cell_type": "code",
      "execution_count": null,
      "metadata": {
        "colab": {
          "base_uri": "https://localhost:8080/"
        },
        "id": "_1TORL7x9Qje",
        "outputId": "e467d233-8311-4cda-98e0-0a4720fbf6bc"
      },
      "outputs": [
        {
          "name": "stdout",
          "output_type": "stream",
          "text": [
            "1020\n",
            "<class 'str'>\n"
          ]
        }
      ],
      "source": [
        "x=\"10\"\n",
        "y=\"20\"\n",
        "print(x+y)\n",
        "print(type(x))"
      ]
    },
    {
      "cell_type": "code",
      "execution_count": null,
      "metadata": {
        "colab": {
          "base_uri": "https://localhost:8080/"
        },
        "id": "n0A-OQO898qk",
        "outputId": "227c1328-bf31-4eb5-d6cb-eefe756c848e"
      },
      "outputs": [
        {
          "name": "stdout",
          "output_type": "stream",
          "text": [
            "30\n"
          ]
        }
      ],
      "source": [
        "x=\"10\"\n",
        "y=\"20\"\n",
        "print(int(x)+int(y))"
      ]
    },
    {
      "cell_type": "code",
      "execution_count": null,
      "metadata": {
        "colab": {
          "base_uri": "https://localhost:8080/"
        },
        "id": "8dWMjXxk-ehQ",
        "outputId": "3cca180b-e529-49da-de99-76a24a351bb6"
      },
      "outputs": [
        {
          "name": "stdout",
          "output_type": "stream",
          "text": [
            "<class 'str'>\n"
          ]
        }
      ],
      "source": [
        "print(type(x))"
      ]
    },
    {
      "cell_type": "code",
      "execution_count": null,
      "metadata": {
        "colab": {
          "base_uri": "https://localhost:8080/"
        },
        "id": "kO1ldYpXAEq9",
        "outputId": "d46bbdd2-3059-4cde-ce9f-4c2b317084ed"
      },
      "outputs": [
        {
          "name": "stdout",
          "output_type": "stream",
          "text": [
            "6\n"
          ]
        }
      ],
      "source": [
        "\n",
        "x=input()"
      ]
    },
    {
      "cell_type": "code",
      "execution_count": null,
      "metadata": {
        "colab": {
          "base_uri": "https://localhost:8080/"
        },
        "id": "y7RxxpI2AQqQ",
        "outputId": "88bc3969-9082-41e4-dc69-0148a0968b00"
      },
      "outputs": [
        {
          "name": "stdout",
          "output_type": "stream",
          "text": [
            "value of x is 6\n"
          ]
        }
      ],
      "source": [
        "print(\"value of x is\",x)"
      ]
    },
    {
      "cell_type": "code",
      "source": [
        "x=int(input(\"Enter a mark\"))\n",
        "if x >50 :\n",
        "   print(\"pass\")"
      ],
      "metadata": {
        "colab": {
          "base_uri": "https://localhost:8080/"
        },
        "id": "worWUALWOKDi",
        "outputId": "47dccfe7-1c04-44fb-9217-d3bc666ca08d"
      },
      "execution_count": 3,
      "outputs": [
        {
          "output_type": "stream",
          "name": "stdout",
          "text": [
            "Enter a mark65\n",
            "pass\n"
          ]
        }
      ]
    },
    {
      "cell_type": "code",
      "source": [
        "x=int(input(\"Enter a mark\"))\n",
        "if x <50 :\n",
        "   print(\"fail\")"
      ],
      "metadata": {
        "id": "MxK2fryZPJJr",
        "outputId": "577d0a8c-5e99-49b6-df09-751cdabdd823",
        "colab": {
          "base_uri": "https://localhost:8080/"
        }
      },
      "execution_count": 1,
      "outputs": [
        {
          "output_type": "stream",
          "name": "stdout",
          "text": [
            "Enter a mark45\n",
            "fail\n"
          ]
        }
      ]
    },
    {
      "cell_type": "code",
      "source": [],
      "metadata": {
        "id": "kA7TqbYvQmyC"
      },
      "execution_count": null,
      "outputs": []
    }
  ],
  "metadata": {
    "colab": {
      "provenance": [],
      "authorship_tag": "ABX9TyMfYjdjtBVD+w0AlWxhPPgB",
      "include_colab_link": true
    },
    "kernelspec": {
      "display_name": "Python 3",
      "name": "python3"
    },
    "language_info": {
      "name": "python"
    }
  },
  "nbformat": 4,
  "nbformat_minor": 0
}