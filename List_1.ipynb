{
  "nbformat": 4,
  "nbformat_minor": 0,
  "metadata": {
    "colab": {
      "provenance": [],
      "authorship_tag": "ABX9TyPXvZg/i6c+64/ZtUaJmvpm",
      "include_colab_link": true
    },
    "kernelspec": {
      "name": "python3",
      "display_name": "Python 3"
    },
    "language_info": {
      "name": "python"
    }
  },
  "cells": [
    {
      "cell_type": "markdown",
      "metadata": {
        "id": "view-in-github",
        "colab_type": "text"
      },
      "source": [
        "<a href=\"https://colab.research.google.com/github/YadhukrishnanK2001/Python/blob/main/List_1.ipynb\" target=\"_parent\"><img src=\"https://colab.research.google.com/assets/colab-badge.svg\" alt=\"Open In Colab\"/></a>"
      ]
    },
    {
      "cell_type": "code",
      "execution_count": 27,
      "metadata": {
        "id": "D5QoQ7scDTuO"
      },
      "outputs": [],
      "source": [
        "x=[\"Yadhu krishnan k \",39,21,\"28/08/2001\",\"thrissur irinjalakuda\"]\n"
      ]
    },
    {
      "cell_type": "code",
      "source": [
        "x "
      ],
      "metadata": {
        "colab": {
          "base_uri": "https://localhost:8080/",
          "height": 0
        },
        "id": "WG3sVqhjGI6u",
        "outputId": "46edef56-8d6d-4e88-b2e3-aa01ee96c9b6"
      },
      "execution_count": 28,
      "outputs": [
        {
          "output_type": "execute_result",
          "data": {
            "text/plain": [
              "['Yadhu krishnan k ', 39, 21, '28/08/2001', 'thrissur irinjalakuda']"
            ]
          },
          "metadata": {},
          "execution_count": 28
        }
      ]
    },
    {
      "cell_type": "code",
      "source": [
        "print(x)"
      ],
      "metadata": {
        "colab": {
          "base_uri": "https://localhost:8080/",
          "height": 0
        },
        "id": "cgbzampcGLJ1",
        "outputId": "d9f62e4a-da83-4b0f-977c-376df5d30281"
      },
      "execution_count": 29,
      "outputs": [
        {
          "output_type": "stream",
          "name": "stdout",
          "text": [
            "['Yadhu krishnan k ', 39, 21, '28/08/2001', 'thrissur irinjalakuda']\n"
          ]
        }
      ]
    },
    {
      "cell_type": "code",
      "source": [
        "print(x)\n",
        "x[0]"
      ],
      "metadata": {
        "colab": {
          "base_uri": "https://localhost:8080/",
          "height": 53
        },
        "id": "VRCfO36-HK7e",
        "outputId": "1db8dbad-7185-4a2d-a12e-fb9dd0aa1a48"
      },
      "execution_count": 30,
      "outputs": [
        {
          "output_type": "stream",
          "name": "stdout",
          "text": [
            "['Yadhu krishnan k ', 39, 21, '28/08/2001', 'thrissur irinjalakuda']\n"
          ]
        },
        {
          "output_type": "execute_result",
          "data": {
            "text/plain": [
              "'Yadhu krishnan k '"
            ],
            "application/vnd.google.colaboratory.intrinsic+json": {
              "type": "string"
            }
          },
          "metadata": {},
          "execution_count": 30
        }
      ]
    },
    {
      "cell_type": "code",
      "source": [
        "x[0]"
      ],
      "metadata": {
        "colab": {
          "base_uri": "https://localhost:8080/",
          "height": 35
        },
        "id": "X9v1F5BwIGe1",
        "outputId": "83cbcd84-142f-4dc6-bf2e-198f5f30fc8a"
      },
      "execution_count": 31,
      "outputs": [
        {
          "output_type": "execute_result",
          "data": {
            "text/plain": [
              "'Yadhu krishnan k '"
            ],
            "application/vnd.google.colaboratory.intrinsic+json": {
              "type": "string"
            }
          },
          "metadata": {},
          "execution_count": 31
        }
      ]
    },
    {
      "cell_type": "code",
      "source": [
        "x[3]"
      ],
      "metadata": {
        "colab": {
          "base_uri": "https://localhost:8080/",
          "height": 35
        },
        "id": "5WfRTphyISYd",
        "outputId": "f0dceaa1-b0d5-4700-b581-61a2c0552177"
      },
      "execution_count": 32,
      "outputs": [
        {
          "output_type": "execute_result",
          "data": {
            "text/plain": [
              "'28/08/2001'"
            ],
            "application/vnd.google.colaboratory.intrinsic+json": {
              "type": "string"
            }
          },
          "metadata": {},
          "execution_count": 32
        }
      ]
    },
    {
      "cell_type": "code",
      "source": [
        "x[1]"
      ],
      "metadata": {
        "colab": {
          "base_uri": "https://localhost:8080/",
          "height": 0
        },
        "id": "VlHF52oHIVHl",
        "outputId": "36d814c1-8872-4eea-9701-9d2581ec2fb8"
      },
      "execution_count": 33,
      "outputs": [
        {
          "output_type": "execute_result",
          "data": {
            "text/plain": [
              "39"
            ]
          },
          "metadata": {},
          "execution_count": 33
        }
      ]
    },
    {
      "cell_type": "code",
      "source": [
        "x.append(\"kerala\")"
      ],
      "metadata": {
        "id": "n2afT-iFIvHp"
      },
      "execution_count": 34,
      "outputs": []
    },
    {
      "cell_type": "code",
      "source": [
        "x"
      ],
      "metadata": {
        "colab": {
          "base_uri": "https://localhost:8080/",
          "height": 0
        },
        "id": "aZN-Fp9xIYK9",
        "outputId": "fa5a46f2-342a-4e39-ba19-cb6781492f95"
      },
      "execution_count": 35,
      "outputs": [
        {
          "output_type": "execute_result",
          "data": {
            "text/plain": [
              "['Yadhu krishnan k ', 39, 21, '28/08/2001', 'thrissur irinjalakuda', 'kerala']"
            ]
          },
          "metadata": {},
          "execution_count": 35
        }
      ]
    },
    {
      "cell_type": "code",
      "source": [
        "x.insert(1,\"india\")"
      ],
      "metadata": {
        "id": "gcSjIuugI_TN"
      },
      "execution_count": 36,
      "outputs": []
    },
    {
      "cell_type": "code",
      "source": [
        "print(x)"
      ],
      "metadata": {
        "colab": {
          "base_uri": "https://localhost:8080/",
          "height": 0
        },
        "id": "HwLNxyGvKDL1",
        "outputId": "64544be6-110a-4028-f3a2-f3a4ab4dd256"
      },
      "execution_count": 37,
      "outputs": [
        {
          "output_type": "stream",
          "name": "stdout",
          "text": [
            "['Yadhu krishnan k ', 'india', 39, 21, '28/08/2001', 'thrissur irinjalakuda', 'kerala']\n"
          ]
        }
      ]
    },
    {
      "cell_type": "code",
      "source": [
        "x=int(input(\"enter the mark\"))\n",
        "if x>50:\n",
        "    print(\"pass\")\n",
        "if x<50:\n",
        "  print(\"fail\")    \n",
        "\n",
        "\n"
      ],
      "metadata": {
        "colab": {
          "base_uri": "https://localhost:8080/",
          "height": 0
        },
        "id": "IA8kDnhrKD6N",
        "outputId": "cd579554-a39d-416c-813c-55f8719497ac"
      },
      "execution_count": 38,
      "outputs": [
        {
          "output_type": "stream",
          "name": "stdout",
          "text": [
            "enter the mark65\n",
            "pass\n"
          ]
        }
      ]
    },
    {
      "cell_type": "code",
      "source": [
        "x=[\"anugrah\",\"adi\",\"barath\"]\n",
        "print(x)\n",
        "x.append(input(\"enter a name\"))\n",
        "print(x)"
      ],
      "metadata": {
        "colab": {
          "base_uri": "https://localhost:8080/",
          "height": 0
        },
        "id": "uzL6lzKVQIOu",
        "outputId": "ecc7c2ab-3aec-4660-8b31-60558098a73b"
      },
      "execution_count": 39,
      "outputs": [
        {
          "output_type": "stream",
          "name": "stdout",
          "text": [
            "['anugrah', 'adi', 'barath']\n",
            "enter a namehafda\n",
            "['anugrah', 'adi', 'barath', 'hafda']\n"
          ]
        }
      ]
    },
    {
      "cell_type": "code",
      "source": [],
      "metadata": {
        "id": "4FhfWoXKTuSP"
      },
      "execution_count": 39,
      "outputs": []
    }
  ]
}